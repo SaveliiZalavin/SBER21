{
  "nbformat": 4,
  "nbformat_minor": 0,
  "metadata": {
    "colab": {
      "provenance": [],
      "gpuType": "T4",
      "authorship_tag": "ABX9TyOh9qDKSq9F+Zt0h9k4mn7a",
      "include_colab_link": true
    },
    "kernelspec": {
      "name": "python3",
      "display_name": "Python 3"
    },
    "language_info": {
      "name": "python"
    },
    "accelerator": "GPU"
  },
  "cells": [
    {
      "cell_type": "markdown",
      "metadata": {
        "id": "view-in-github",
        "colab_type": "text"
      },
      "source": [
        "<a href=\"https://colab.research.google.com/github/SaveliiZalavin/SBER21/blob/main/1hypotheses.ipynb\" target=\"_parent\"><img src=\"https://colab.research.google.com/assets/colab-badge.svg\" alt=\"Open In Colab\"/></a>"
      ]
    },
    {
      "cell_type": "code",
      "execution_count": 4,
      "metadata": {
        "id": "7QLpQfI7B19A",
        "colab": {
          "base_uri": "https://localhost:8080/"
        },
        "outputId": "96cb058e-999a-4c71-8a1f-80cf580faa8d"
      },
      "outputs": [
        {
          "output_type": "stream",
          "name": "stderr",
          "text": [
            "[nltk_data] Downloading package stopwords to /root/nltk_data...\n",
            "[nltk_data]   Package stopwords is already up-to-date!\n",
            "[nltk_data] Downloading package punkt to /root/nltk_data...\n",
            "[nltk_data]   Package punkt is already up-to-date!\n"
          ]
        },
        {
          "output_type": "execute_result",
          "data": {
            "text/plain": [
              "True"
            ]
          },
          "metadata": {},
          "execution_count": 4
        }
      ],
      "source": [
        "from nltk.corpus import stopwords\n",
        "from pymystem3 import Mystem\n",
        "import nltk\n",
        "from string import punctuation\n",
        "\n",
        "nltk.download(\"stopwords\")\n",
        "filename = 'Идеи.txt'\n",
        "nltk.download(\"punkt\")"
      ]
    },
    {
      "cell_type": "code",
      "source": [
        "from sklearn.feature_extraction.text import TfidfVectorizer\n",
        "from sklearn.decomposition import TruncatedSVD\n",
        "import numpy as np"
      ],
      "metadata": {
        "id": "jsU92vR2PYCc"
      },
      "execution_count": 8,
      "outputs": []
    },
    {
      "cell_type": "code",
      "source": [
        "with open(filename, 'r', encoding='utf-8') as f:\n",
        "        text = f.read()\n",
        "    # ваш код\n",
        "mystem = Mystem()\n",
        "russian_stopwords = stopwords.words(\"russian\")\n",
        "tokens = mystem.lemmatize(text.lower())\n",
        "clean_tokens = []\n",
        "for token in tokens:\n",
        "  if token not in russian_stopwords and token != \" \" and token.isalpha() == True:\n",
        "    clean_tokens.append(token)\n",
        "vectorizer = TfidfVectorizer()\n",
        "tfidf_matrix = vectorizer.fit_transform(clean_tokens)\n",
        "n_components = 5\n",
        "lsa = TruncatedSVD(n_components)\n",
        "lsa_matrix = lsa.fit_transform(tfidf_matrix)\n",
        "terms = np.array(vectorizer.get_feature_names_out())\n",
        "for i, topic in enumerate(lsa.components_):\n",
        "    top_terms_idx = topic.argsort()[-5:][::-1]  # Получаем топ-5 слов в каждой теме\n",
        "    top_terms = terms[top_terms_idx]\n",
        "    print(f\"Topic {i + 1}: {', '.join(top_terms)}\")"
      ],
      "metadata": {
        "colab": {
          "base_uri": "https://localhost:8080/"
        },
        "id": "6xdxVo4GPfFP",
        "outputId": "6ff052bf-52de-4b72-d49d-731506b77a79"
      },
      "execution_count": 18,
      "outputs": [
        {
          "output_type": "stream",
          "name": "stdout",
          "text": [
            "Topic 1: страхование, пользователь, путешествие, расход, помощь\n",
            "Topic 2: мочь, пользователь, путешествие, расход, риск\n",
            "Topic 3: приложение, функция, оформление, поддержка, условие\n",
            "Topic 4: страховка, полис, время, проблема, расход\n",
            "Topic 5: медицинский, время, лечение, покрытие, оформление\n"
          ]
        }
      ]
    }
  ]
}