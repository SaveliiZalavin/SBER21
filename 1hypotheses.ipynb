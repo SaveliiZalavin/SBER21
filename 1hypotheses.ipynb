{
  "nbformat": 4,
  "nbformat_minor": 0,
  "metadata": {
    "colab": {
      "provenance": [],
      "gpuType": "T4",
      "authorship_tag": "ABX9TyPiDBvu8+W3zYabOY0OLJie",
      "include_colab_link": true
    },
    "kernelspec": {
      "name": "python3",
      "display_name": "Python 3"
    },
    "language_info": {
      "name": "python"
    },
    "accelerator": "GPU"
  },
  "cells": [
    {
      "cell_type": "markdown",
      "metadata": {
        "id": "view-in-github",
        "colab_type": "text"
      },
      "source": [
        "<a href=\"https://colab.research.google.com/github/SaveliiZalavin/SBER21/blob/FinalVersion/1hypotheses.ipynb\" target=\"_parent\"><img src=\"https://colab.research.google.com/assets/colab-badge.svg\" alt=\"Open In Colab\"/></a>"
      ]
    },
    {
      "cell_type": "code",
      "execution_count": 1,
      "metadata": {
        "id": "7QLpQfI7B19A",
        "colab": {
          "base_uri": "https://localhost:8080/"
        },
        "outputId": "29e2c70a-fb26-498a-8a2b-94c869e4e317"
      },
      "outputs": [
        {
          "output_type": "stream",
          "name": "stderr",
          "text": [
            "[nltk_data] Downloading package stopwords to /root/nltk_data...\n",
            "[nltk_data]   Unzipping corpora/stopwords.zip.\n",
            "[nltk_data] Downloading package punkt to /root/nltk_data...\n",
            "[nltk_data]   Unzipping tokenizers/punkt.zip.\n"
          ]
        },
        {
          "output_type": "execute_result",
          "data": {
            "text/plain": [
              "True"
            ]
          },
          "metadata": {},
          "execution_count": 1
        }
      ],
      "source": [
        "from nltk.corpus import stopwords\n",
        "from pymystem3 import Mystem\n",
        "import nltk\n",
        "from string import punctuation\n",
        "\n",
        "nltk.download(\"stopwords\")\n",
        "filename = 'Идеи.txt'\n",
        "nltk.download(\"punkt\")"
      ]
    },
    {
      "cell_type": "code",
      "source": [
        "from sklearn.feature_extraction.text import TfidfVectorizer\n",
        "from sklearn.decomposition import TruncatedSVD\n",
        "import numpy as np"
      ],
      "metadata": {
        "id": "jsU92vR2PYCc"
      },
      "execution_count": 2,
      "outputs": []
    },
    {
      "cell_type": "code",
      "source": [
        "with open(filename, 'r', encoding='utf-8') as f:\n",
        "        text = f.read()\n",
        "    # ваш код\n",
        "mystem = Mystem()\n",
        "russian_stopwords = stopwords.words(\"russian\")\n",
        "russian_stopwords.append('мочь')\n",
        "russian_stopwords.append('случай')\n",
        "tokens = mystem.lemmatize(text.lower())\n",
        "clean_tokens = []\n",
        "for token in tokens:\n",
        "  if token not in russian_stopwords and token != \" \" and token.isalpha() == True:\n",
        "    clean_tokens.append(token)\n",
        "vectorizer = TfidfVectorizer()\n",
        "tfidf_matrix = vectorizer.fit_transform(clean_tokens)\n",
        "n_components = 4\n",
        "lsa = TruncatedSVD(n_components)\n",
        "lsa_matrix = lsa.fit_transform(tfidf_matrix)\n",
        "terms = np.array(vectorizer.get_feature_names_out())\n",
        "for i, topic in enumerate(lsa.components_):\n",
        "    top_terms_idx = topic.argsort()[-3:][::-1]  # Получаем топ-3 слов в каждой теме\n",
        "    top_terms = terms[top_terms_idx]\n",
        "    print(f\"Topic {i + 1}: {', '.join(top_terms)}\")"
      ],
      "metadata": {
        "colab": {
          "base_uri": "https://localhost:8080/"
        },
        "id": "6xdxVo4GPfFP",
        "outputId": "a82c8a24-5e24-4f5e-9f6a-134c7de1da20"
      },
      "execution_count": 9,
      "outputs": [
        {
          "output_type": "stream",
          "name": "stdout",
          "text": [
            "Topic 1: страхование, экстренный, молодежь\n",
            "Topic 2: приложение, функция, оформление\n",
            "Topic 3: страховка, финансовый, экстренный\n",
            "Topic 4: риск, медицинский, приводить\n"
          ]
        }
      ]
    }
  ]
}